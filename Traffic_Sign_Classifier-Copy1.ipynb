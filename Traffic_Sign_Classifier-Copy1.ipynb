{
 "cells": [
  {
   "cell_type": "markdown",
   "metadata": {},
   "source": [
    "# Self-Driving Car Engineer Nanodegree\n",
    "\n",
    "## Deep Learning\n",
    "\n",
    "## Project: Build a Traffic Sign Recognition Classifier\n",
    "\n",
    "In this notebook, a template is provided for you to implement your functionality in stages which is required to successfully complete this project. If additional code is required that cannot be included in the notebook, be sure that the Python code is successfully imported and included in your submission, if necessary. Sections that begin with **'Implementation'** in the header indicate where you should begin your implementation for your project. Note that some sections of implementation are optional, and will be marked with **'Optional'** in the header.\n",
    "\n",
    "In addition to implementing code, there will be questions that you must answer which relate to the project and your implementation. Each section where you will answer a question is preceded by a **'Question'** header. Carefully read each question and provide thorough answers in the following text boxes that begin with **'Answer:'**. Your project submission will be evaluated based on your answers to each of the questions and the implementation you provide.\n",
    "\n",
    ">**Note:** Code and Markdown cells can be executed using the **Shift + Enter** keyboard shortcut. In addition, Markdown cells can be edited by typically double-clicking the cell to enter edit mode."
   ]
  },
  {
   "cell_type": "markdown",
   "metadata": {},
   "source": [
    "---\n",
    "## Step 0: Load The Data"
   ]
  },
  {
   "cell_type": "code",
   "execution_count": 86,
   "metadata": {
    "collapsed": false
   },
   "outputs": [],
   "source": [
    "# Load pickled data\n",
    "import pickle\n",
    "\n",
    "# TODO: Fill this in based on where you saved the training and testing data\n",
    "\n",
    "training_file = \"traffic-signs-data/train.p\"\n",
    "testing_file = \"traffic-signs-data/test.p\"\n",
    "\n",
    "with open(training_file, mode='rb') as f:\n",
    "    train = pickle.load(f)\n",
    "with open(testing_file, mode='rb') as f:\n",
    "    test = pickle.load(f)\n",
    "    \n",
    "X_train, y_train = train['features'], train['labels']\n",
    "X_test, y_test = test['features'], test['labels']\n",
    "# print(X_train.shape)"
   ]
  },
  {
   "cell_type": "markdown",
   "metadata": {},
   "source": [
    "---\n",
    "\n",
    "## Step 1: Dataset Summary & Exploration\n",
    "\n",
    "The pickled data is a dictionary with 4 key/value pairs:\n",
    "\n",
    "- `'features'` is a 4D array containing raw pixel data of the traffic sign images, (num examples, width, height, channels).\n",
    "- `'labels'` is a 2D array containing the label/class id of the traffic sign. The file `signnames.csv` contains id -> name mappings for each id.\n",
    "- `'sizes'` is a list containing tuples, (width, height) representing the the original width and height the image.\n",
    "- `'coords'` is a list containing tuples, (x1, y1, x2, y2) representing coordinates of a bounding box around the sign in the image. **THESE COORDINATES ASSUME THE ORIGINAL IMAGE. THE PICKLED DATA CONTAINS RESIZED VERSIONS (32 by 32) OF THESE IMAGES**\n",
    "\n",
    "Complete the basic data summary below."
   ]
  },
  {
   "cell_type": "code",
   "execution_count": 87,
   "metadata": {
    "collapsed": false
   },
   "outputs": [
    {
     "name": "stdout",
     "output_type": "stream",
     "text": [
      "Number of training examples = 39209\n",
      "Number of testing examples = 12630\n",
      "Image data shape = (32, 32, 3)\n",
      "Number of classes = 43\n"
     ]
    }
   ],
   "source": [
    "### Replace each question mark with the appropriate value.\n",
    "\n",
    "# TODO: Number of training examples\n",
    "n_train = y_train.shape[0]\n",
    "\n",
    "# TODO: Number of testing examples.\n",
    "n_test = y_test.shape[0]\n",
    "\n",
    "# TODO: What's the shape of an traffic sign image?\n",
    "image_shape = X_train[0].shape\n",
    "\n",
    "# TODO: How many unique classes/labels there are in the dataset.\n",
    "n_classes = 43\n",
    "\n",
    "print(\"Number of training examples =\", n_train)\n",
    "print(\"Number of testing examples =\", n_test)\n",
    "print(\"Image data shape =\", image_shape)\n",
    "print(\"Number of classes =\", n_classes)"
   ]
  },
  {
   "cell_type": "markdown",
   "metadata": {},
   "source": [
    "Visualize the German Traffic Signs Dataset using the pickled file(s). This is open ended, suggestions include: plotting traffic sign images, plotting the count of each sign, etc.\n",
    "\n",
    "The [Matplotlib](http://matplotlib.org/) [examples](http://matplotlib.org/examples/index.html) and [gallery](http://matplotlib.org/gallery.html) pages are a great resource for doing visualizations in Python.\n",
    "\n",
    "**NOTE:** It's recommended you start with something simple first. If you wish to do more, come back to it after you've completed the rest of the sections."
   ]
  },
  {
   "cell_type": "code",
   "execution_count": 88,
   "metadata": {
    "collapsed": false
   },
   "outputs": [
    {
     "name": "stdout",
     "output_type": "stream",
     "text": [
      "18\n"
     ]
    },
    {
     "data": {
      "image/png": "[encoded data removed]",
      "text/plain": [
       "<matplotlib.figure.Figure at 0x126207898>"
      ]
     },
     "metadata": {},
     "output_type": "display_data"
    }
   ],
   "source": [
    "### Data exploration visualization goes here.\n",
    "### Feel free to use as many code cells as needed.\n",
    "import random\n",
    "import matplotlib.pyplot as plt\n",
    "# Visualizations will be shown in the notebook.\n",
    "%matplotlib inline\n",
    "\n",
    "index = random.randint(0, len(X_train))\n",
    "image = X_train[index].squeeze()\n",
    "\n",
    "plt.figure(figsize=(1,1))\n",
    "plt.imshow(image)\n",
    "print(y_train[index])"
   ]
  },
  {
   "cell_type": "markdown",
   "metadata": {},
   "source": [
    "----\n",
    "\n",
    "## Step 2: Design and Test a Model Architecture\n",
    "\n",
    "Design and implement a deep learning model that learns to recognize traffic signs. Train and test your model on the [German Traffic Sign Dataset](http://benchmark.ini.rub.de/?section=gtsrb&subsection=dataset).\n",
    "\n",
    "There are various aspects to consider when thinking about this problem:\n",
    "\n",
    "- Neural network architecture\n",
    "- Play around preprocessing techniques (normalization, rgb to grayscale, etc)\n",
    "- Number of examples per label (some have more than others).\n",
    "- Generate fake data.\n",
    "\n",
    "Here is an example of a [published baseline model on this problem](http://yann.lecun.com/exdb/publis/pdf/sermanet-ijcnn-11.pdf). It's not required to be familiar with the approach used in the paper but, it's good practice to try to read papers like these.\n",
    "\n",
    "**NOTE:** The LeNet-5 implementation shown in the [classroom](https://classroom.udacity.com/nanodegrees/nd013/parts/fbf77062-5703-404e-b60c-95b78b2f3f9e/modules/6df7ae49-c61c-4bb2-a23e-6527e69209ec/lessons/601ae704-1035-4287-8b11-e2c2716217ad/concepts/d4aca031-508f-4e0b-b493-e7b706120f81) at the end of the CNN lesson is a solid starting point. You'll have to change the number of classes and possibly the preprocessing, but aside from that it's plug and play!"
   ]
  },
  {
   "cell_type": "markdown",
   "metadata": {},
   "source": [
    "### Implementation\n",
    "\n",
    "Use the code cell (or multiple code cells, if necessary) to implement the first step of your project. Once you have completed your implementation and are satisfied with the results, be sure to thoroughly answer the questions that follow."
   ]
  },
  {
   "cell_type": "code",
   "execution_count": 89,
   "metadata": {
    "collapsed": true
   },
   "outputs": [],
   "source": [
    "### Preprocess the data here.\n",
    "### Feel free to use as many code cells as needed.\n",
    "from sklearn.utils import shuffle\n",
    "\n",
    "X_train, y_train = shuffle(X_train, y_train)\n"
   ]
  },
  {
   "cell_type": "markdown",
   "metadata": {},
   "source": [
    "### Question 1 \n",
    "\n",
    "_Describe how you preprocessed the data. Why did you choose that technique?_"
   ]
  },
  {
   "cell_type": "markdown",
   "metadata": {},
   "source": [
    "**Answer:**\n",
    "Shuffle the training data.\n",
    "To avoid bias in the data."
   ]
  },
  {
   "cell_type": "code",
   "execution_count": 140,
   "metadata": {
    "collapsed": false
   },
   "outputs": [
    {
     "name": "stdout",
     "output_type": "stream",
     "text": [
      "38\n"
     ]
    },
    {
     "data": {
      "image/png": "[encoded data removed]",
      "text/plain": [
       "<matplotlib.figure.Figure at 0x11944d2b0>"
      ]
     },
     "metadata": {},
     "output_type": "display_data"
    }
   ],
   "source": [
    "### Generate data additional data (OPTIONAL!)\n",
    "### and split the data into training/validation/testing sets here.\n",
    "### Feel free to use as many code cells as needed.\n",
    "\n",
    "X_sample, y_sample = X_test[1:5], y_test[1:5]\n",
    "\n",
    "image = X_sample[1].squeeze()\n",
    "\n",
    "plt.figure(figsize=(1,1))\n",
    "plt.imshow(image)\n",
    "print(y_sample[1])"
   ]
  },
  {
   "cell_type": "markdown",
   "metadata": {},
   "source": [
    "### Question 2\n",
    "\n",
    "_Describe how you set up the training, validation and testing data for your model. **Optional**: If you generated additional data, how did you generate the data? Why did you generate the data? What are the differences in the new dataset (with generated data) from the original dataset?_"
   ]
  },
  {
   "cell_type": "markdown",
   "metadata": {},
   "source": [
    "**Answer:**\n",
    "To cross validation, sprit training data into 10 in training session. \n",
    "I didn't change training data and testing data in this area."
   ]
  },
  {
   "cell_type": "code",
   "execution_count": 91,
   "metadata": {
    "collapsed": false
   },
   "outputs": [],
   "source": [
    "### Define your architecture here.\n",
    "### Feel free to use as many code cells as needed.\n",
    "import tensorflow as tf\n",
    "from tensorflow.contrib.layers import flatten\n",
    "\n",
    "def LeNet(x):    \n",
    "    # Arguments used for tf.truncated_normal, randomly defines variables for the weights and biases for each layer\n",
    "    mu = 0\n",
    "    sigma = 0.1\n",
    "    \n",
    "    # Store layers weight & bias\n",
    "    weights = {\n",
    "        'wc1': tf.Variable(tf.truncated_normal([5, 5, 3, 6], mean = mu, stddev = sigma)),\n",
    "        'wc2': tf.Variable(tf.truncated_normal([5, 5, 6, 16], mean = mu, stddev = sigma)),\n",
    "        'wfc1': tf.Variable(tf.truncated_normal([400, 120], mean = mu, stddev = sigma)),\n",
    "        'wfc2': tf.Variable(tf.truncated_normal([120, 84], mean = mu, stddev = sigma)),\n",
    "        'out': tf.Variable(tf.truncated_normal([84, n_classes], mean = mu, stddev = sigma))}\n",
    "\n",
    "    biases = {\n",
    "        'bc1': tf.Variable(tf.zeros([6])),\n",
    "        'bc2': tf.Variable(tf.zeros([16])),\n",
    "        'bfc1': tf.Variable(tf.zeros([120])),\n",
    "        'bfc2': tf.Variable(tf.zeros([84])),\n",
    "        'out': tf.Variable(tf.zeros([n_classes]))}\n",
    "\n",
    "    # Layer 1: Convolutional. Input = 32x32x3. Output = 28x28x6.\n",
    "    conv1   = tf.nn.conv2d(x, weights['wc1'], strides=[1, 1, 1, 1], padding='VALID') + biases['bc1']\n",
    "\n",
    "    # Activation.\n",
    "    conv1 = tf.nn.relu(conv1)\n",
    "\n",
    "    # Pooling. Input = 28x28x6. Output = 14x14x6.\n",
    "    conv1 = tf.nn.max_pool(conv1, ksize=[1, 2, 2, 1], strides=[1, 2, 2, 1], padding='VALID')\n",
    "\n",
    "    # Layer 2: Convolutional. Output = 10x10x16.\n",
    "    conv2   = tf.nn.conv2d(conv1, weights['wc2'], strides=[1, 1, 1, 1], padding='VALID') + biases['bc2']\n",
    "    \n",
    "    # Activation.\n",
    "    conv2 = tf.nn.relu(conv2)\n",
    "\n",
    "    # Pooling. Input = 10x10x16. Output = 5x5x16.\n",
    "    conv2 = tf.nn.max_pool(conv2, ksize=[1, 2, 2, 1], strides=[1, 2, 2, 1], padding='VALID')\n",
    "\n",
    "    # Flatten. Input = 5x5x16. Output = 400.\n",
    "    fc0   = flatten(conv2)\n",
    "    \n",
    "    # Layer 3: Fully Connected. Input = 400. Output = 120.\n",
    "    fc1   = tf.matmul(fc0, weights['wfc1']) + biases['bfc1']\n",
    "    \n",
    "    # Activation.\n",
    "    fc1    = tf.nn.relu(fc1)\n",
    "\n",
    "    # Layer 4: Fully Connected. Input = 120. Output = 84.\n",
    "    fc2    = tf.matmul(fc1, weights['wfc2']) + biases['bfc2']\n",
    "    \n",
    "    # Activation.\n",
    "    fc2    = tf.nn.relu(fc2)\n",
    "\n",
    "    # Layer 5: Fully Connected. Input = 84. Output = 43(n_classes).\n",
    "    logits = tf.matmul(fc2, weights['out']) + biases['out']\n",
    "    \n",
    "    return logits"
   ]
  },
  {
   "cell_type": "markdown",
   "metadata": {},
   "source": [
    "### Question 3\n",
    "\n",
    "_What does your final architecture look like? (Type of model, layers, sizes, connectivity, etc.)  For reference on how to build a deep neural network using TensorFlow, see [Deep Neural Network in TensorFlow\n",
    "](https://classroom.udacity.com/nanodegrees/nd013/parts/fbf77062-5703-404e-b60c-95b78b2f3f9e/modules/6df7ae49-c61c-4bb2-a23e-6527e69209ec/lessons/b516a270-8600-4f93-a0a3-20dfeabe5da6/concepts/83a3a2a2-a9bd-4b7b-95b0-eb924ab14432) from the classroom._\n"
   ]
  },
  {
   "cell_type": "markdown",
   "metadata": {},
   "source": [
    "**Answer:**\n",
    "Five layers deep neural network.\n",
    "Layer 1: Convolutional. Input = 32x32x3. Output = 28x28x6.\n",
    "Layer 2: Convolutional. Output = 10x10x16.\n",
    "Pooling: Input = 10x10x16. Output = 5x5x16.\n",
    "Flatten: Input = 5x5x16. Output = 400.\n",
    "Layer 3: Fully Connected. Input = 400. Output = 120.\n",
    "Layer 4: Fully Connected. Input = 120. Output = 84.\n",
    "Layer 5: Fully Connected. Input = 84. Output = 42.\n",
    "\n",
    "\n"
   ]
  },
  {
   "cell_type": "code",
   "execution_count": 119,
   "metadata": {
    "collapsed": false
   },
   "outputs": [
    {
     "name": "stdout",
     "output_type": "stream",
     "text": [
      "Training...\n",
      "\n",
      "EPOCH 1 ...\n",
      "Validation1 Accuracy = 0.128\n",
      "\n",
      "EPOCH 2 ...\n",
      "Validation1 Accuracy = 0.298\n",
      "\n",
      "EPOCH 3 ...\n",
      "Validation1 Accuracy = 0.517\n",
      "\n",
      "EPOCH 4 ...\n",
      "Validation1 Accuracy = 0.675\n",
      "\n",
      "EPOCH 5 ...\n",
      "Validation1 Accuracy = 0.723\n",
      "\n",
      "EPOCH 6 ...\n",
      "Validation1 Accuracy = 0.771\n",
      "\n",
      "EPOCH 7 ...\n",
      "Validation1 Accuracy = 0.823\n",
      "\n",
      "EPOCH 8 ...\n",
      "Validation1 Accuracy = 0.859\n",
      "\n",
      "EPOCH 9 ...\n",
      "Validation1 Accuracy = 0.878\n",
      "\n",
      "EPOCH 10 ...\n",
      "Validation1 Accuracy = 0.886\n",
      "\n",
      "Model saved\n",
      "Training...\n",
      "\n",
      "EPOCH 1 ...\n",
      "Validation1 Accuracy = 0.115\n",
      "\n",
      "EPOCH 2 ...\n",
      "Validation1 Accuracy = 0.363\n",
      "\n",
      "EPOCH 3 ...\n",
      "Validation1 Accuracy = 0.528\n",
      "\n",
      "EPOCH 4 ...\n",
      "Validation1 Accuracy = 0.635\n",
      "\n",
      "EPOCH 5 ...\n",
      "Validation1 Accuracy = 0.704\n",
      "\n",
      "EPOCH 6 ...\n",
      "Validation1 Accuracy = 0.728\n",
      "\n",
      "EPOCH 7 ...\n",
      "Validation1 Accuracy = 0.778\n",
      "\n",
      "EPOCH 8 ...\n",
      "Validation1 Accuracy = 0.805\n",
      "\n",
      "EPOCH 9 ...\n",
      "Validation1 Accuracy = 0.818\n",
      "\n",
      "EPOCH 10 ...\n",
      "Validation1 Accuracy = 0.824\n",
      "\n",
      "Training...\n",
      "\n",
      "EPOCH 1 ...\n",
      "Validation1 Accuracy = 0.184\n",
      "\n",
      "EPOCH 2 ...\n",
      "Validation1 Accuracy = 0.370\n",
      "\n",
      "EPOCH 3 ...\n",
      "Validation1 Accuracy = 0.515\n",
      "\n",
      "EPOCH 4 ...\n",
      "Validation1 Accuracy = 0.628\n",
      "\n",
      "EPOCH 5 ...\n",
      "Validation1 Accuracy = 0.726\n",
      "\n",
      "EPOCH 6 ...\n",
      "Validation1 Accuracy = 0.754\n",
      "\n",
      "EPOCH 7 ...\n",
      "Validation1 Accuracy = 0.774\n",
      "\n",
      "EPOCH 8 ...\n",
      "Validation1 Accuracy = 0.820\n",
      "\n",
      "EPOCH 9 ...\n",
      "Validation1 Accuracy = 0.843\n",
      "\n",
      "EPOCH 10 ...\n",
      "Validation1 Accuracy = 0.859\n",
      "\n",
      "Training...\n",
      "\n",
      "EPOCH 1 ...\n",
      "Validation1 Accuracy = 0.163\n",
      "\n",
      "EPOCH 2 ...\n",
      "Validation1 Accuracy = 0.365\n",
      "\n",
      "EPOCH 3 ...\n",
      "Validation1 Accuracy = 0.515\n",
      "\n",
      "EPOCH 4 ...\n",
      "Validation1 Accuracy = 0.630\n",
      "\n",
      "EPOCH 5 ...\n",
      "Validation1 Accuracy = 0.720\n",
      "\n",
      "EPOCH 6 ...\n",
      "Validation1 Accuracy = 0.751\n",
      "\n",
      "EPOCH 7 ...\n",
      "Validation1 Accuracy = 0.793\n",
      "\n",
      "EPOCH 8 ...\n",
      "Validation1 Accuracy = 0.829\n",
      "\n",
      "EPOCH 9 ...\n",
      "Validation1 Accuracy = 0.846\n",
      "\n",
      "EPOCH 10 ...\n",
      "Validation1 Accuracy = 0.876\n",
      "\n",
      "Training...\n",
      "\n",
      "EPOCH 1 ...\n",
      "Validation1 Accuracy = 0.263\n",
      "\n",
      "EPOCH 2 ...\n",
      "Validation1 Accuracy = 0.484\n",
      "\n",
      "EPOCH 3 ...\n",
      "Validation1 Accuracy = 0.626\n",
      "\n",
      "EPOCH 4 ...\n",
      "Validation1 Accuracy = 0.753\n",
      "\n",
      "EPOCH 5 ...\n",
      "Validation1 Accuracy = 0.811\n",
      "\n",
      "EPOCH 6 ...\n",
      "Validation1 Accuracy = 0.845\n",
      "\n",
      "EPOCH 7 ...\n",
      "Validation1 Accuracy = 0.848\n",
      "\n",
      "EPOCH 8 ...\n",
      "Validation1 Accuracy = 0.897\n",
      "\n",
      "EPOCH 9 ...\n",
      "Validation1 Accuracy = 0.902\n",
      "\n",
      "EPOCH 10 ...\n",
      "Validation1 Accuracy = 0.910\n",
      "\n",
      "Model saved\n",
      "Training...\n",
      "\n",
      "EPOCH 1 ...\n",
      "Validation1 Accuracy = 0.163\n",
      "\n",
      "EPOCH 2 ...\n",
      "Validation1 Accuracy = 0.415\n",
      "\n",
      "EPOCH 3 ...\n",
      "Validation1 Accuracy = 0.589\n",
      "\n",
      "EPOCH 4 ...\n",
      "Validation1 Accuracy = 0.711\n",
      "\n",
      "EPOCH 5 ...\n",
      "Validation1 Accuracy = 0.757\n",
      "\n",
      "EPOCH 6 ...\n",
      "Validation1 Accuracy = 0.806\n",
      "\n",
      "EPOCH 7 ...\n",
      "Validation1 Accuracy = 0.828\n",
      "\n",
      "EPOCH 8 ...\n",
      "Validation1 Accuracy = 0.874\n",
      "\n",
      "EPOCH 9 ...\n",
      "Validation1 Accuracy = 0.878\n",
      "\n",
      "EPOCH 10 ...\n",
      "Validation1 Accuracy = 0.896\n",
      "\n",
      "Training...\n",
      "\n",
      "EPOCH 1 ...\n",
      "Validation1 Accuracy = 0.204\n",
      "\n",
      "EPOCH 2 ...\n",
      "Validation1 Accuracy = 0.413\n",
      "\n",
      "EPOCH 3 ...\n",
      "Validation1 Accuracy = 0.602\n",
      "\n",
      "EPOCH 4 ...\n",
      "Validation1 Accuracy = 0.697\n",
      "\n",
      "EPOCH 5 ...\n",
      "Validation1 Accuracy = 0.739\n",
      "\n",
      "EPOCH 6 ...\n",
      "Validation1 Accuracy = 0.804\n",
      "\n",
      "EPOCH 7 ...\n",
      "Validation1 Accuracy = 0.814\n",
      "\n",
      "EPOCH 8 ...\n",
      "Validation1 Accuracy = 0.867\n",
      "\n",
      "EPOCH 9 ...\n",
      "Validation1 Accuracy = 0.876\n",
      "\n",
      "EPOCH 10 ...\n",
      "Validation1 Accuracy = 0.870\n",
      "\n",
      "Training...\n",
      "\n",
      "EPOCH 1 ...\n",
      "Validation1 Accuracy = 0.142\n",
      "\n",
      "EPOCH 2 ...\n",
      "Validation1 Accuracy = 0.324\n",
      "\n",
      "EPOCH 3 ...\n",
      "Validation1 Accuracy = 0.492\n",
      "\n",
      "EPOCH 4 ...\n",
      "Validation1 Accuracy = 0.631\n",
      "\n",
      "EPOCH 5 ...\n",
      "Validation1 Accuracy = 0.733\n",
      "\n",
      "EPOCH 6 ...\n",
      "Validation1 Accuracy = 0.788\n",
      "\n",
      "EPOCH 7 ...\n",
      "Validation1 Accuracy = 0.814\n",
      "\n",
      "EPOCH 8 ...\n",
      "Validation1 Accuracy = 0.826\n",
      "\n",
      "EPOCH 9 ...\n",
      "Validation1 Accuracy = 0.877\n",
      "\n",
      "EPOCH 10 ...\n",
      "Validation1 Accuracy = 0.845\n",
      "\n",
      "Training...\n",
      "\n",
      "EPOCH 1 ...\n",
      "Validation1 Accuracy = 0.209\n",
      "\n",
      "EPOCH 2 ...\n",
      "Validation1 Accuracy = 0.432\n",
      "\n",
      "EPOCH 3 ...\n",
      "Validation1 Accuracy = 0.618\n",
      "\n",
      "EPOCH 4 ...\n",
      "Validation1 Accuracy = 0.713\n",
      "\n",
      "EPOCH 5 ...\n",
      "Validation1 Accuracy = 0.777\n",
      "\n",
      "EPOCH 6 ...\n",
      "Validation1 Accuracy = 0.825\n",
      "\n",
      "EPOCH 7 ...\n",
      "Validation1 Accuracy = 0.837\n",
      "\n",
      "EPOCH 8 ...\n",
      "Validation1 Accuracy = 0.876\n",
      "\n",
      "EPOCH 9 ...\n",
      "Validation1 Accuracy = 0.878\n",
      "\n",
      "EPOCH 10 ...\n",
      "Validation1 Accuracy = 0.885\n",
      "\n",
      "Training...\n",
      "\n",
      "EPOCH 1 ...\n",
      "Validation1 Accuracy = 0.250\n",
      "\n",
      "EPOCH 2 ...\n",
      "Validation1 Accuracy = 0.422\n",
      "\n",
      "EPOCH 3 ...\n",
      "Validation1 Accuracy = 0.547\n",
      "\n",
      "EPOCH 4 ...\n",
      "Validation1 Accuracy = 0.643\n",
      "\n",
      "EPOCH 5 ...\n",
      "Validation1 Accuracy = 0.705\n",
      "\n",
      "EPOCH 6 ...\n",
      "Validation1 Accuracy = 0.776\n",
      "\n",
      "EPOCH 7 ...\n",
      "Validation1 Accuracy = 0.813\n",
      "\n",
      "EPOCH 8 ...\n",
      "Validation1 Accuracy = 0.834\n",
      "\n",
      "EPOCH 9 ...\n",
      "Validation1 Accuracy = 0.831\n",
      "\n",
      "EPOCH 10 ...\n",
      "Validation1 Accuracy = 0.866\n",
      "\n",
      "Test Accuracy = 0.806\n"
     ]
    }
   ],
   "source": [
    "### Train your model here.\n",
    "### Feel free to use as many code cells as needed.\n",
    "import sklearn\n",
    "from sklearn.model_selection import KFold\n",
    "\n",
    "EPOCHS = 10\n",
    "BATCH_SIZE = 1024\n",
    "\n",
    "x = tf.placeholder(tf.float32, (None, 32, 32, 3))\n",
    "y = tf.placeholder(tf.int32, (None))\n",
    "one_hot_y = tf.one_hot(y, n_classes)\n",
    "\n",
    "rate = 0.001\n",
    "n_folds = 10\n",
    "\n",
    "kf = KFold(n_folds)\n",
    "KFold(n_folds, shuffle = False, random_state = None)\n",
    "\n",
    "logits = LeNet(x)\n",
    "cross_entropy = tf.nn.softmax_cross_entropy_with_logits(logits, one_hot_y)\n",
    "loss_operation = tf.reduce_mean(cross_entropy)\n",
    "optimizer = tf.train.AdamOptimizer(learning_rate = rate)\n",
    "training_operation = optimizer.minimize(loss_operation)\n",
    "\n",
    "correct_prediction = tf.equal(tf.argmax(logits, 1), tf.argmax(one_hot_y, 1))\n",
    "accuracy_operation = tf.reduce_mean(tf.cast(correct_prediction, tf.float32))\n",
    "saver = tf.train.Saver()\n",
    "\n",
    "def evaluate(X_data, y_data):\n",
    "    num_examples = len(X_data)\n",
    "    total_accuracy = 0\n",
    "    sess = tf.get_default_session()\n",
    "    for offset in range(0, num_examples, BATCH_SIZE):\n",
    "        batch_x, batch_y = X_data[offset:offset+BATCH_SIZE], y_data[offset:offset+BATCH_SIZE]\n",
    "        accuracy = sess.run(accuracy_operation, feed_dict={x: batch_x, y: batch_y})\n",
    "        total_accuracy += (accuracy * len(batch_x))\n",
    "    return total_accuracy / num_examples\n",
    "\n",
    "validation_accuracy_max = 0\n",
    "\n",
    "for train_index, valid_index in kf.split(X_train):\n",
    "    X_train_v, X_valid = X_train[train_index], X_train[valid_index]\n",
    "    y_train_v, y_valid = y_train[train_index], y_train[valid_index]\n",
    "    with tf.Session() as sess:\n",
    "        sess.run(tf.global_variables_initializer())\n",
    "        num_examples = len(X_train)\n",
    "\n",
    "        print(\"Training...\")\n",
    "        print()\n",
    "        for i in range(EPOCHS):\n",
    "            X_train_v, y_train_v = shuffle(X_train_v, y_train_v)\n",
    "            for offset in range(0, num_examples, BATCH_SIZE):\n",
    "                end = offset + BATCH_SIZE\n",
    "                batch_x, batch_y = X_train_v[offset:end], y_train_v[offset:end]\n",
    "                sess.run(training_operation, feed_dict={x: batch_x, y: batch_y})\n",
    "\n",
    "            validation_accuracy = evaluate(X_valid, y_valid)\n",
    "            print(\"EPOCH {} ...\".format(i+1))\n",
    "            print(\"Validation1 Accuracy = {:.3f}\".format(validation_accuracy))\n",
    "            print()\n",
    "\n",
    "        if validation_accuracy > validation_accuracy_max:\n",
    "            validation_accuracy_max = validation_accuracy\n",
    "            saver.save(sess, 'lenet')\n",
    "            print(\"Model saved\")\n",
    "\n",
    "with tf.Session() as sess:\n",
    "    saver.restore(sess, tf.train.latest_checkpoint('.'))\n",
    "\n",
    "    test_accuracy = evaluate(X_test, y_test)\n",
    "    print(\"Test Accuracy = {:.3f}\".format(test_accuracy))\n",
    "    "
   ]
  },
  {
   "cell_type": "markdown",
   "metadata": {},
   "source": [
    "### Question 4\n",
    "\n",
    "_How did you train your model? (Type of optimizer, batch size, epochs, hyperparameters, etc.)_\n"
   ]
  },
  {
   "cell_type": "markdown",
   "metadata": {},
   "source": [
    "**Answer:**\n",
    "minimize cross entropy of logits\n",
    "batch size is set 1048 (try and error)\n",
    "epochs set 10\n",
    "I used cross validation (kfold = 10), and select most accurate weights and biases."
   ]
  },
  {
   "cell_type": "markdown",
   "metadata": {},
   "source": [
    "### Question 5\n",
    "\n",
    "\n",
    "_What approach did you take in coming up with a solution to this problem? It may have been a process of trial and error, in which case, outline the steps you took to get to the final solution and why you chose those steps. Perhaps your solution involved an already well known implementation or architecture. In this case, discuss why you think this is suitable for the current problem._"
   ]
  },
  {
   "cell_type": "markdown",
   "metadata": {},
   "source": [
    "**Answer:**\n",
    "I used LeNet architecuture and cross validation.\n",
    "I decided batch size try and error.\n"
   ]
  },
  {
   "cell_type": "markdown",
   "metadata": {},
   "source": [
    "---\n",
    "\n",
    "## Step 3: Test a Model on New Images\n",
    "\n",
    "Take several pictures of traffic signs that you find on the web or around you (at least five), and run them through your classifier on your computer to produce example results. The classifier might not recognize some local signs but it could prove interesting nonetheless.\n",
    "\n",
    "You may find `signnames.csv` useful as it contains mappings from the class id (integer) to the actual sign name."
   ]
  },
  {
   "cell_type": "markdown",
   "metadata": {},
   "source": [
    "### Implementation\n",
    "\n",
    "Use the code cell (or multiple code cells, if necessary) to implement the first step of your project. Once you have completed your implementation and are satisfied with the results, be sure to thoroughly answer the questions that follow."
   ]
  },
  {
   "cell_type": "code",
   "execution_count": 120,
   "metadata": {
    "collapsed": false
   },
   "outputs": [
    {
     "name": "stdout",
     "output_type": "stream",
     "text": [
      "(32, 32, 3)\n",
      "traffic-signs-j/30.jpg\n",
      "traffic-signs-j/narrow.jpg\n",
      "traffic-signs-j/NoEntry.jpg\n",
      "traffic-signs-j/NoParking.jpg\n",
      "traffic-signs-j/slow.jpg\n",
      "[[[ 69  80  66]\n",
      "  [ 76  73  64]\n",
      "  [ 96  81  78]\n",
      "  ..., \n",
      "  [ 97 118  79]\n",
      "  [ 93 117  69]\n",
      "  [ 95 122  69]]\n",
      "\n",
      " [[ 86 103  95]\n",
      "  [ 64  66  61]\n",
      "  [ 95  81  81]\n",
      "  ..., \n",
      "  [ 89 119  85]\n",
      "  [ 98 126  86]\n",
      "  [108 137  93]]\n",
      "\n",
      " [[ 64  90  81]\n",
      "  [ 69  74  70]\n",
      "  [111  95  96]\n",
      "  ..., \n",
      "  [102 113  97]\n",
      "  [114 122 101]\n",
      "  [133 137 114]]\n",
      "\n",
      " ..., \n",
      " [[138 136 123]\n",
      "  [138 132 116]\n",
      "  [107  95  79]\n",
      "  ..., \n",
      "  [126 108  98]\n",
      "  [193 142 125]\n",
      "  [217 142 123]]\n",
      "\n",
      " [[135 133 121]\n",
      "  [146 138 127]\n",
      "  [144 126 114]\n",
      "  ..., \n",
      "  [165 140 135]\n",
      "  [191 134 123]\n",
      "  [161  84  68]]\n",
      "\n",
      " [[135 135 125]\n",
      "  [123 113 104]\n",
      "  [121  98  90]\n",
      "  ..., \n",
      "  [182 154 150]\n",
      "  [149  92  83]\n",
      "  [152  74  62]]]\n",
      "[[[  69.   80.   66.]\n",
      "  [  76.   73.   64.]\n",
      "  [  96.   81.   78.]\n",
      "  ..., \n",
      "  [  97.  118.   79.]\n",
      "  [  93.  117.   69.]\n",
      "  [  95.  122.   69.]]\n",
      "\n",
      " [[  86.  103.   95.]\n",
      "  [  64.   66.   61.]\n",
      "  [  95.   81.   81.]\n",
      "  ..., \n",
      "  [  89.  119.   85.]\n",
      "  [  98.  126.   86.]\n",
      "  [ 108.  137.   93.]]\n",
      "\n",
      " [[  64.   90.   81.]\n",
      "  [  69.   74.   70.]\n",
      "  [ 111.   95.   96.]\n",
      "  ..., \n",
      "  [ 102.  113.   97.]\n",
      "  [ 114.  122.  101.]\n",
      "  [ 133.  137.  114.]]\n",
      "\n",
      " ..., \n",
      " [[ 138.  136.  123.]\n",
      "  [ 138.  132.  116.]\n",
      "  [ 107.   95.   79.]\n",
      "  ..., \n",
      "  [ 126.  108.   98.]\n",
      "  [ 193.  142.  125.]\n",
      "  [ 217.  142.  123.]]\n",
      "\n",
      " [[ 135.  133.  121.]\n",
      "  [ 146.  138.  127.]\n",
      "  [ 144.  126.  114.]\n",
      "  ..., \n",
      "  [ 165.  140.  135.]\n",
      "  [ 191.  134.  123.]\n",
      "  [ 161.   84.   68.]]\n",
      "\n",
      " [[ 135.  135.  125.]\n",
      "  [ 123.  113.  104.]\n",
      "  [ 121.   98.   90.]\n",
      "  ..., \n",
      "  [ 182.  154.  150.]\n",
      "  [ 149.   92.   83.]\n",
      "  [ 152.   74.   62.]]]\n"
     ]
    },
    {
     "data": {
      "text/plain": [
       "<matplotlib.image.AxesImage at 0x134e5fc18>"
      ]
     },
     "execution_count": 120,
     "metadata": {},
     "output_type": "execute_result"
    },
    {
     "data": {
      "image/png": "[encoded data removed]",
      "text/plain": [
       "<matplotlib.figure.Figure at 0x1130a22b0>"
      ]
     },
     "metadata": {},
     "output_type": "display_data"
    }
   ],
   "source": [
    "### Load the images and plot them here.\n",
    "### Feel free to use as many code cells as needed.\n",
    "import cv2\n",
    "import numpy as np\n",
    "\n",
    "JS_file = ['traffic-signs-j/30.jpg', 'traffic-signs-j/narrow.jpg', 'traffic-signs-j/NoEntry.jpg',\n",
    "          'traffic-signs-j/NoParking.jpg', 'traffic-signs-j/slow.jpg']\n",
    "#img = np.empty([5, 32, 32, 3])\n",
    "print(img[0].shape)\n",
    "for i in range(0, len(JS_file)):\n",
    "    print(JS_file[i])\n",
    "    input_image = cv2.imread(JS_file[i])\n",
    "    img[i] = cv2.cvtColor(input_image, cv2.COLOR_BGR2RGB)\n",
    "\n",
    "\n",
    "img4 =  cv2.cvtColor(input_image, cv2.COLOR_BGR2RGB)\n",
    "img[4] = cv2.cvtColor(input_image, cv2.COLOR_BGR2RGB)\n",
    "print(img4)\n",
    "print(img[4])\n",
    "plt.figure(figsize=(1,5))\n",
    "plt.imshow(img4)\n",
    "\n"
   ]
  },
  {
   "cell_type": "markdown",
   "metadata": {},
   "source": [
    "### Question 6\n",
    "\n",
    "_Choose five candidate images of traffic signs and provide them in the report. Are there any particular qualities of the image(s) that might make classification difficult? It could be helpful to plot the images in the notebook._\n",
    "\n"
   ]
  },
  {
   "cell_type": "markdown",
   "metadata": {},
   "source": [
    "**Answer:**"
   ]
  },
  {
   "cell_type": "code",
   "execution_count": 143,
   "metadata": {
    "collapsed": false
   },
   "outputs": [
    {
     "name": "stdout",
     "output_type": "stream",
     "text": [
      "1 is  1\n",
      "38 is  38\n",
      "33 is  33\n",
      "11 is  11\n"
     ]
    }
   ],
   "source": [
    "### Run the predictions here.\n",
    "### Feel free to use as many code cells as needed.\n",
    "with tf.Session() as sess:\n",
    "    saver.restore(sess, tf.train.latest_checkpoint('.'))\n",
    "    feed_dict = {x: X_sample}\n",
    "    classification = sess.run(logits, feed_dict)\n",
    "    for i in range(0, 4):\n",
    "        print(np.argmax(classification[i]),'is ', y_sample[i])\n",
    "    \n",
    "    "
   ]
  },
  {
   "cell_type": "markdown",
   "metadata": {},
   "source": [
    "### Question 7\n",
    "\n",
    "_Is your model able to perform equally well on captured pictures when compared to testing on the dataset? The simplest way to do this check the accuracy of the predictions. For example, if the model predicted 1 out of 5 signs correctly, it's 20% accurate._\n",
    "\n",
    "_**NOTE:** You could check the accuracy manually by using `signnames.csv` (same directory). This file has a mapping from the class id (0-42) to the corresponding sign name. So, you could take the class id the model outputs, lookup the name in `signnames.csv` and see if it matches the sign from the image._\n"
   ]
  },
  {
   "cell_type": "markdown",
   "metadata": {},
   "source": [
    "**Answer:**"
   ]
  },
  {
   "cell_type": "code",
   "execution_count": null,
   "metadata": {
    "collapsed": true
   },
   "outputs": [],
   "source": [
    "### Visualize the softmax probabilities here.\n",
    "### Feel free to use as many code cells as needed."
   ]
  },
  {
   "cell_type": "markdown",
   "metadata": {},
   "source": [
    "### Question 8\n",
    "\n",
    "*Use the model's softmax probabilities to visualize the **certainty** of its predictions, [`tf.nn.top_k`](https://www.tensorflow.org/versions/r0.12/api_docs/python/nn.html#top_k) could prove helpful here. Which predictions is the model certain of? Uncertain? If the model was incorrect in its initial prediction, does the correct prediction appear in the top k? (k should be 5 at most)*\n",
    "\n",
    "`tf.nn.top_k` will return the values and indices (class ids) of the top k predictions. So if k=3, for each sign, it'll return the 3 largest probabilities (out of a possible 43) and the correspoding class ids.\n",
    "\n",
    "Take this numpy array as an example:\n",
    "\n",
    "```\n",
    "# (5, 6) array\n",
    "a = np.array([[ 0.24879643,  0.07032244,  0.12641572,  0.34763842,  0.07893497,\n",
    "         0.12789202],\n",
    "       [ 0.28086119,  0.27569815,  0.08594638,  0.0178669 ,  0.18063401,\n",
    "         0.15899337],\n",
    "       [ 0.26076848,  0.23664738,  0.08020603,  0.07001922,  0.1134371 ,\n",
    "         0.23892179],\n",
    "       [ 0.11943333,  0.29198961,  0.02605103,  0.26234032,  0.1351348 ,\n",
    "         0.16505091],\n",
    "       [ 0.09561176,  0.34396535,  0.0643941 ,  0.16240774,  0.24206137,\n",
    "         0.09155967]])\n",
    "```\n",
    "\n",
    "Running it through `sess.run(tf.nn.top_k(tf.constant(a), k=3))` produces:\n",
    "\n",
    "```\n",
    "TopKV2(values=array([[ 0.34763842,  0.24879643,  0.12789202],\n",
    "       [ 0.28086119,  0.27569815,  0.18063401],\n",
    "       [ 0.26076848,  0.23892179,  0.23664738],\n",
    "       [ 0.29198961,  0.26234032,  0.16505091],\n",
    "       [ 0.34396535,  0.24206137,  0.16240774]]), indices=array([[3, 0, 5],\n",
    "       [0, 1, 4],\n",
    "       [0, 5, 1],\n",
    "       [1, 3, 5],\n",
    "       [1, 4, 3]], dtype=int32))\n",
    "```\n",
    "\n",
    "Looking just at the first row we get `[ 0.34763842,  0.24879643,  0.12789202]`, you can confirm these are the 3 largest probabilities in `a`. You'll also notice `[3, 0, 5]` are the corresponding indices."
   ]
  },
  {
   "cell_type": "markdown",
   "metadata": {},
   "source": [
    "**Answer:**"
   ]
  },
  {
   "cell_type": "markdown",
   "metadata": {},
   "source": [
    "> **Note**: Once you have completed all of the code implementations and successfully answered each question above, you may finalize your work by exporting the iPython Notebook as an HTML document. You can do this by using the menu above and navigating to  \\n\",\n",
    "    \"**File -> Download as -> HTML (.html)**. Include the finished document along with this notebook as your submission."
   ]
  },
  {
   "cell_type": "code",
   "execution_count": null,
   "metadata": {
    "collapsed": true
   },
   "outputs": [],
   "source": []
  }
 ],
 "metadata": {
  "anaconda-cloud": {},
  "kernelspec": {
   "display_name": "Python 3",
   "language": "python",
   "name": "python3"
  },
  "language_info": {
   "codemirror_mode": {
    "name": "ipython",
    "version": 3
   },
   "file_extension": ".py",
   "mimetype": "text/x-python",
   "name": "python",
   "nbconvert_exporter": "python",
   "pygments_lexer": "ipython3",
   "version": "3.5.2"
  },
  "widgets": {
   "state": {},
   "version": "1.1.2"
  }
 },
 "nbformat": 4,
 "nbformat_minor": 1
}
